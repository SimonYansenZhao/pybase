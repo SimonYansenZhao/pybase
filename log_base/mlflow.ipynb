{
 "cells": [
  {
   "cell_type": "markdown",
   "id": "9305dcfd",
   "metadata": {},
   "source": [
    "# Model tracking with MLflow\n",
    "\n",
    "MLflow is an open source platform for managing the end-to-end machine learning lifecycle. It tackles four primary functions:\n",
    "\n",
    "* Tracking experiments to compare parameters and results (MLflow Tracking).\n",
    "* Model versioning\n",
    "* Support for serving models\n",
    "* Packaging of ML code\n",
    "\n",
    "## Documentation\n",
    "* Documentation: https://mlflow.org/docs/latest/index.html\n",
    "* Tracking API: https://mlflow.org/docs/latest/python_api/index.html\n"
   ]
  },
  {
   "cell_type": "code",
   "execution_count": null,
   "id": "765c6546",
   "metadata": {},
   "outputs": [],
   "source": [
    "import os\n",
    "import mlflow\n",
    "import numpy as np\n",
    "from sklearn.datasets import load_diabetes\n",
    "from sklearn.model_selection import train_test_split\n",
    "from sklearn.ensemble import RandomForestRegressor\n",
    "from sklearn.metrics import mean_squared_error, mean_absolute_error"
   ]
  },
  {
   "cell_type": "code",
   "execution_count": null,
   "id": "41bd95aa",
   "metadata": {},
   "outputs": [],
   "source": [
    "mlflow_path = \"mlflow_path\"\n",
    "if os.path.isdir(mlflow_path):\n",
    "    shutil.rmtree(mlflow_path, ignore_errors=True)"
   ]
  },
  {
   "cell_type": "code",
   "execution_count": null,
   "id": "15258d44",
   "metadata": {},
   "outputs": [],
   "source": [
    "mlflow.start_run()"
   ]
  },
  {
   "cell_type": "code",
   "execution_count": null,
   "id": "161eee24",
   "metadata": {},
   "outputs": [],
   "source": [
    "n_estimators = 100\n",
    "max_depth = 10\n",
    "\n",
    "mlflow.log_param(\"n_estimators\", n_estimators)\n",
    "mlflow.log_param(\"max_depth\", max_depth)"
   ]
  },
  {
   "cell_type": "code",
   "execution_count": null,
   "id": "56494018",
   "metadata": {},
   "outputs": [],
   "source": [
    "db = load_diabetes()\n",
    "X_train, X_test, y_train, y_test = train_test_split(db.data, db.target)\n",
    "print(X_train.shape, y_train.shape)\n",
    "print(X_train[0,:])\n",
    "print(y_train[0])"
   ]
  },
  {
   "cell_type": "code",
   "execution_count": null,
   "id": "ace1424d",
   "metadata": {},
   "outputs": [],
   "source": [
    "model = RandomForestRegressor(n_estimators=n_estimators, max_depth=max_depth)\n",
    "model.fit(X_train, y_train)"
   ]
  },
  {
   "cell_type": "code",
   "execution_count": null,
   "id": "689e6ba6",
   "metadata": {},
   "outputs": [],
   "source": [
    "pred = model.predict(X_test)\n",
    "print(pred.shape)"
   ]
  },
  {
   "cell_type": "code",
   "execution_count": null,
   "id": "873c3461",
   "metadata": {},
   "outputs": [],
   "source": [
    "rmse = np.sqrt(mean_squared_error(y_test, pred))\n",
    "mae = mean_absolute_error(y_test, pred)\n",
    "print(rmse)\n",
    "print(mae)\n",
    "mlflow.log_metric(\"rmse\", rmse)\n",
    "mlflow.log_metric(\"mae\", mae)"
   ]
  },
  {
   "cell_type": "code",
   "execution_count": null,
   "id": "6e734192",
   "metadata": {},
   "outputs": [],
   "source": [
    "mlflow.sklearn.log_model(model, \"model\")"
   ]
  },
  {
   "cell_type": "code",
   "execution_count": null,
   "id": "0ab7936f",
   "metadata": {},
   "outputs": [],
   "source": [
    "mlflow.end_run()"
   ]
  },
  {
   "cell_type": "code",
   "execution_count": null,
   "id": "7f799724",
   "metadata": {},
   "outputs": [],
   "source": [
    "logged_model = ''"
   ]
  },
  {
   "cell_type": "code",
   "execution_count": null,
   "id": "dafcfdc7",
   "metadata": {},
   "outputs": [],
   "source": [
    "model2 = mlflow.sklearn.load_model(logged_model)\n",
    "pred2 = model2.predict(X_test)\n",
    "rmse2 = np.sqrt(mean_squared_error(y_test, pred2))\n",
    "mae2 = mean_absolute_error(y_test, pred2)\n",
    "print(rmse2)\n",
    "print(mae2)"
   ]
  },
  {
   "cell_type": "code",
   "execution_count": null,
   "id": "e9747364",
   "metadata": {},
   "outputs": [],
   "source": [
    "!mlflow ui"
   ]
  },
  {
   "cell_type": "code",
   "execution_count": null,
   "id": "9848ec15",
   "metadata": {},
   "outputs": [],
   "source": [
    "if os.path.isdir(mlflow_path):\n",
    "    shutil.rmtree(mlflow_path, ignore_errors=True)"
   ]
  }
 ],
 "metadata": {
  "kernelspec": {
   "display_name": "Python 3 (ipykernel)",
   "language": "python",
   "name": "python3"
  },
  "language_info": {
   "codemirror_mode": {
    "name": "ipython",
    "version": 3
   },
   "file_extension": ".py",
   "mimetype": "text/x-python",
   "name": "python",
   "nbconvert_exporter": "python",
   "pygments_lexer": "ipython3",
   "version": "3.8.13"
  }
 },
 "nbformat": 4,
 "nbformat_minor": 5
}
