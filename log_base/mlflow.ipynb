{
 "cells": [
  {
   "cell_type": "markdown",
   "id": "9305dcfd",
   "metadata": {},
   "source": [
    "# Model tracking with MLflow\n",
    "\n",
    "MLflow is an open source platform for managing the end-to-end machine learning lifecycle. It tackles four primary functions:\n",
    "\n",
    "* Tracking experiments to compare parameters and results (MLflow Tracking).\n",
    "* Model versioning\n",
    "* Support for serving models\n",
    "* Packaging of ML code\n",
    "\n",
    "## Documentation\n",
    "* Documentation: https://mlflow.org/docs/latest/index.html\n",
    "* Tracking API: https://mlflow.org/docs/latest/python_api/index.html\n"
   ]
  },
  {
   "cell_type": "code",
   "execution_count": 76,
   "id": "765c6546",
   "metadata": {},
   "outputs": [],
   "source": [
    "import mlflow\n",
    "import numpy as np\n",
    "from sklearn.datasets import load_diabetes\n",
    "from sklearn.model_selection import train_test_split\n",
    "from sklearn.ensemble import RandomForestRegressor\n",
    "from sklearn.metrics import mean_squared_error, mean_absolute_error"
   ]
  },
  {
   "cell_type": "code",
   "execution_count": 85,
   "id": "15258d44",
   "metadata": {},
   "outputs": [
    {
     "data": {
      "text/plain": [
       "<ActiveRun: >"
      ]
     },
     "execution_count": 85,
     "metadata": {},
     "output_type": "execute_result"
    }
   ],
   "source": [
    "mlflow.start_run()"
   ]
  },
  {
   "cell_type": "code",
   "execution_count": 86,
   "id": "161eee24",
   "metadata": {},
   "outputs": [],
   "source": [
    "n_estimators = 100\n",
    "max_depth = 5\n",
    "\n",
    "mlflow.log_param(\"n_estimators\", n_estimators)\n",
    "mlflow.log_param(\"max_depth\", max_depth)"
   ]
  },
  {
   "cell_type": "code",
   "execution_count": 87,
   "id": "56494018",
   "metadata": {},
   "outputs": [
    {
     "name": "stdout",
     "output_type": "stream",
     "text": [
      "(331, 10) (331,)\n",
      "[-0.06726771 -0.04464164 -0.0547075  -0.02632783 -0.07587041 -0.08210618\n",
      "  0.0486401  -0.0763945  -0.08682899 -0.10463037]\n",
      "143.0\n"
     ]
    }
   ],
   "source": [
    "db = load_diabetes()\n",
    "X_train, X_test, y_train, y_test = train_test_split(db.data, db.target)\n",
    "print(X_train.shape, y_train.shape)\n",
    "print(X_train[0,:])\n",
    "print(y_train[0])"
   ]
  },
  {
   "cell_type": "code",
   "execution_count": 88,
   "id": "ace1424d",
   "metadata": {},
   "outputs": [
    {
     "data": {
      "text/plain": [
       "RandomForestRegressor(max_depth=5)"
      ]
     },
     "execution_count": 88,
     "metadata": {},
     "output_type": "execute_result"
    }
   ],
   "source": [
    "rf = RandomForestRegressor(n_estimators=n_estimators, max_depth=max_depth)\n",
    "rf.fit(X_train, y_train)"
   ]
  },
  {
   "cell_type": "code",
   "execution_count": 89,
   "id": "689e6ba6",
   "metadata": {},
   "outputs": [
    {
     "name": "stdout",
     "output_type": "stream",
     "text": [
      "(111,)\n"
     ]
    }
   ],
   "source": [
    "pred = rf.predict(X_test)\n",
    "print(pred.shape)"
   ]
  },
  {
   "cell_type": "code",
   "execution_count": 90,
   "id": "873c3461",
   "metadata": {},
   "outputs": [
    {
     "name": "stdout",
     "output_type": "stream",
     "text": [
      "56.01717546424879\n",
      "44.52751602504256\n"
     ]
    }
   ],
   "source": [
    "rmse = np.sqrt(mean_squared_error(y_test, pred))\n",
    "mae = mean_absolute_error(y_test, pred)\n",
    "print(rmse)\n",
    "print(mae)\n",
    "mlflow.log_metric(\"rmse\", rmse)\n",
    "mlflow.log_metric(\"mae\", mae)"
   ]
  },
  {
   "cell_type": "code",
   "execution_count": null,
   "id": "6e734192",
   "metadata": {},
   "outputs": [],
   "source": []
  },
  {
   "cell_type": "code",
   "execution_count": 91,
   "id": "0ab7936f",
   "metadata": {},
   "outputs": [],
   "source": [
    "mlflow.end_run()"
   ]
  },
  {
   "cell_type": "code",
   "execution_count": 92,
   "id": "e9747364",
   "metadata": {},
   "outputs": [
    {
     "name": "stdout",
     "output_type": "stream",
     "text": [
      "[2022-04-26 23:09:44 +0200] [916] [INFO] Starting gunicorn 20.1.0\n",
      "[2022-04-26 23:09:44 +0200] [916] [INFO] Listening at: http://127.0.0.1:5000 (916)\n",
      "[2022-04-26 23:09:44 +0200] [916] [INFO] Using worker: sync\n",
      "[2022-04-26 23:09:44 +0200] [918] [INFO] Booting worker with pid: 918\n",
      "^C\n",
      "[2022-04-26 23:10:16 +0200] [916] [INFO] Handling signal: int\n",
      "[2022-04-26 23:10:16 +0200] [918] [INFO] Worker exiting (pid: 918)\n"
     ]
    }
   ],
   "source": [
    "!mlflow ui"
   ]
  },
  {
   "cell_type": "code",
   "execution_count": null,
   "id": "9848ec15",
   "metadata": {},
   "outputs": [],
   "source": []
  }
 ],
 "metadata": {
  "kernelspec": {
   "display_name": "Python 3 (ipykernel)",
   "language": "python",
   "name": "python3"
  },
  "language_info": {
   "codemirror_mode": {
    "name": "ipython",
    "version": 3
   },
   "file_extension": ".py",
   "mimetype": "text/x-python",
   "name": "python",
   "nbconvert_exporter": "python",
   "pygments_lexer": "ipython3",
   "version": "3.8.13"
  }
 },
 "nbformat": 4,
 "nbformat_minor": 5
}
